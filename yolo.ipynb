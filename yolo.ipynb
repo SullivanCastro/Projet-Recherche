{
 "cells": [
  {
   "cell_type": "code",
   "execution_count": null,
   "metadata": {},
   "outputs": [],
   "source": [
    "import yolov5\n",
    "\n",
    "# load pretrained model\n",
    "model = yolov5.load('yolov5s.pt')\n",
    "\n",
    "# or load custom model\n",
    "model = yolov5.load('train/best.pt')\n",
    "  \n",
    "# set model parameters\n",
    "model.conf = 0.25  # NMS confidence threshold\n",
    "model.iou = 0.45  # NMS IoU threshold\n",
    "model.agnostic = False  # NMS class-agnostic\n",
    "model.multi_label = False  # NMS multiple labels per box\n",
    "model.max_det = 1000  # maximum number of detections per image\n",
    "\n",
    "# set image\n",
    "img = 'https://github.com/ultralytics/yolov5/raw/master/data/images/zidane.jpg'\n",
    "\n",
    "# perform inference\n",
    "results = model(img)\n",
    "\n",
    "# inference with larger input size\n",
    "results = model(img, size=1280)\n",
    "\n",
    "# inference with test time augmentation\n",
    "results = model(img, augment=True)\n",
    "\n",
    "# parse results\n",
    "predictions = results.pred[0]\n",
    "boxes = predictions[:, :4] # x1, y1, x2, y2\n",
    "scores = predictions[:, 4]\n",
    "categories = predictions[:, 5]\n",
    "\n",
    "# show detection bounding boxes on image\n",
    "results.show()\n"
   ]
  }
 ],
 "metadata": {
  "language_info": {
   "name": "python"
  },
  "orig_nbformat": 4
 },
 "nbformat": 4,
 "nbformat_minor": 2
}
