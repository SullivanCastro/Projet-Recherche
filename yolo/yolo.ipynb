{
 "cells": [
  {
   "cell_type": "markdown",
   "id": "9ed7c9c3",
   "metadata": {},
   "source": [
    "# Packages"
   ]
  },
  {
   "cell_type": "code",
   "execution_count": 2,
   "id": "b80e84cc",
   "metadata": {},
   "outputs": [],
   "source": [
    "import torch\n",
    "from torch.utils.data import Dataset\n",
    "\n",
    "import os\n",
    "import pandas as pd\n",
    "import cv2"
   ]
  },
  {
   "cell_type": "markdown",
   "id": "148b9959",
   "metadata": {},
   "source": [
    "# Model"
   ]
  },
  {
   "cell_type": "code",
   "execution_count": 20,
   "id": "cbc809fd",
   "metadata": {
    "scrolled": true
   },
   "outputs": [
    {
     "name": "stderr",
     "output_type": "stream",
     "text": [
      "Using cache found in /home/sullivan/.cache/torch/hub/ultralytics_yolov5_master\n",
      "YOLOv5 🚀 2023-3-7 Python-3.8.0 torch-2.0.0+cu117 CUDA:0 (GeForce GTX TITAN X, 12213MiB)\n",
      "\n",
      "Overriding model.yaml nc=80 with nc=4\n",
      "\n",
      "                 from  n    params  module                                  arguments                     \n",
      "  0                -1  1      3520  models.common.Conv                      [3, 32, 6, 2, 2]              \n",
      "  1                -1  1     18560  models.common.Conv                      [32, 64, 3, 2]                \n",
      "  2                -1  1     18816  models.common.C3                        [64, 64, 1]                   \n",
      "  3                -1  1     73984  models.common.Conv                      [64, 128, 3, 2]               \n",
      "  4                -1  2    115712  models.common.C3                        [128, 128, 2]                 \n",
      "  5                -1  1    295424  models.common.Conv                      [128, 256, 3, 2]              \n",
      "  6                -1  3    625152  models.common.C3                        [256, 256, 3]                 \n",
      "  7                -1  1   1180672  models.common.Conv                      [256, 512, 3, 2]              \n",
      "  8                -1  1   1182720  models.common.C3                        [512, 512, 1]                 \n",
      "  9                -1  1    656896  models.common.SPPF                      [512, 512, 5]                 \n",
      " 10                -1  1    131584  models.common.Conv                      [512, 256, 1, 1]              \n",
      " 11                -1  1         0  torch.nn.modules.upsampling.Upsample    [None, 2, 'nearest']          \n",
      " 12           [-1, 6]  1         0  models.common.Concat                    [1]                           \n",
      " 13                -1  1    361984  models.common.C3                        [512, 256, 1, False]          \n",
      " 14                -1  1     33024  models.common.Conv                      [256, 128, 1, 1]              \n",
      " 15                -1  1         0  torch.nn.modules.upsampling.Upsample    [None, 2, 'nearest']          \n",
      " 16           [-1, 4]  1         0  models.common.Concat                    [1]                           \n",
      " 17                -1  1     90880  models.common.C3                        [256, 128, 1, False]          \n",
      " 18                -1  1    147712  models.common.Conv                      [128, 128, 3, 2]              \n",
      " 19          [-1, 14]  1         0  models.common.Concat                    [1]                           \n",
      " 20                -1  1    296448  models.common.C3                        [256, 256, 1, False]          \n",
      " 21                -1  1    590336  models.common.Conv                      [256, 256, 3, 2]              \n",
      " 22          [-1, 10]  1         0  models.common.Concat                    [1]                           \n",
      " 23                -1  1   1182720  models.common.C3                        [512, 512, 1, False]          \n",
      " 24      [17, 20, 23]  1     24273  models.yolo.Detect                      [4, [[10, 13, 16, 30, 33, 23], [30, 61, 62, 45, 59, 119], [116, 90, 156, 198, 373, 326]], [128, 256, 512]]\n",
      "YOLOv5s summary: 214 layers, 7030417 parameters, 7030417 gradients\n",
      "\n"
     ]
    }
   ],
   "source": [
    "# Model\n",
    "model = torch.hub.load('ultralytics/yolov5', 'yolov5s', classes=4)"
   ]
  },
  {
   "cell_type": "markdown",
   "id": "cee8d383",
   "metadata": {},
   "source": [
    "# Datasets"
   ]
  },
  {
   "cell_type": "code",
   "execution_count": null,
   "id": "da85678d",
   "metadata": {},
   "outputs": [],
   "source": [
    "#for file in os.listdir(\"../datsets/images/train\"):\n",
    "#    img"
   ]
  },
  {
   "cell_type": "code",
   "execution_count": 49,
   "id": "15b39271",
   "metadata": {},
   "outputs": [
    {
     "data": {
      "text/plain": [
       "Index(['1002.jpg', '1002.jpg', '1003.jpg', '1004.jpg', '1005.jpg', '1006.jpg',\n",
       "       '1006.jpg', '1007.jpg', '1008.jpg', '1014.jpg',\n",
       "       ...\n",
       "       '4990.jpg', '4991.jpg', '4991.jpg', '4991.jpg', '4991.jpg', '4993.jpg',\n",
       "       '4994.jpg', '4998.jpg', '4999.jpg', '4999.jpg'],\n",
       "      dtype='object', name='image', length=2927)"
      ]
     },
     "execution_count": 49,
     "metadata": {},
     "output_type": "execute_result"
    }
   ],
   "source": [
    "# data = pd.read_csv(\"../SVED.csv\", index_col=[0])\n",
    "# classes = {'_': 0, 'Initial': 1, 'Decoration': 2, 'ContentIllustration': 3, 'PrintersMark': 4}"
   ]
  },
  {
   "cell_type": "code",
   "execution_count": 68,
   "id": "9c5aa271",
   "metadata": {},
   "outputs": [],
   "source": [
    "# for dir in ['train', 'val', 'test']:\n",
    "#     for file in os.listdir(\"../datasets/images/\"+dir):\n",
    "#         df = data[data.index==file].replace(classes)\n",
    "#         with open('../datasets/labels/' + dir + '/'+file[:-4] + '.txt', 'w') as f:\n",
    "#             for index, row in df.iterrows():\n",
    "#                 f.write(f\"{int(row.label)} {row.x} {row.y} {row.width} {row.height} \\n\")"
   ]
  },
  {
   "cell_type": "markdown",
   "id": "b1d8d897",
   "metadata": {},
   "source": [
    "# Training"
   ]
  },
  {
   "cell_type": "code",
   "execution_count": 70,
   "id": "61777a67",
   "metadata": {},
   "outputs": [
    {
     "name": "stdout",
     "output_type": "stream",
     "text": [
      "unknown option --batch\r\n",
      "unknown option --batch\r\n",
      "unknown option --batch\r\n",
      "usage: python [option] ... [-c cmd | -m mod | file | -] [arg] ...\r\n",
      "Try `python -h' for more information.\r\n"
     ]
    }
   ],
   "source": [
    "!python --batch 16 --epochs 150 --data runs/data.yaml --weights yolov5s.pt --cache"
   ]
  },
  {
   "cell_type": "code",
   "execution_count": null,
   "id": "a31211b1",
   "metadata": {},
   "outputs": [],
   "source": []
  }
 ],
 "metadata": {
  "kernelspec": {
   "display_name": "Python 3",
   "language": "python",
   "name": "python3"
  },
  "language_info": {
   "codemirror_mode": {
    "name": "ipython",
    "version": 3
   },
   "file_extension": ".py",
   "mimetype": "text/x-python",
   "name": "python",
   "nbconvert_exporter": "python",
   "pygments_lexer": "ipython3",
   "version": "3.8.0"
  }
 },
 "nbformat": 4,
 "nbformat_minor": 5
}
